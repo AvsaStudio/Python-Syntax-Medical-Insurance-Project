{
 "cells": [
  {
   "cell_type": "markdown",
   "id": "7ac921d1",
   "metadata": {
    "panel-layout": {
     "height": 60.59375,
     "visible": true,
     "width": 100
    }
   },
   "source": [
    "# Python Syntax: Medical Insurance Project"
   ]
  },
  {
   "cell_type": "code",
   "execution_count": null,
   "id": "aa7974ea-02ff-446a-ade9-4c87f460e904",
   "metadata": {},
   "outputs": [],
   "source": [
    "# Medical Insurance Cost Estimator\n",
    "\n",
    "This project estimates the effect of different factors on medical insurance costs.\n",
    "We will examine the impact of the following factors:\n",
    "- Age\n",
    "- BMI (Body Mass Index)\n",
    "- Sex\n",
    "- Smoking status\n",
    "- Number of children\n"
   ]
  },
  {
   "cell_type": "code",
   "execution_count": 1,
   "id": "7f311028",
   "metadata": {},
   "outputs": [],
   "source": [
    "# Individual's data\n",
    "age = 28\n",
    "sex = 0          # 0: female, 1: male\n",
    "bmi = 26.2\n",
    "num_of_children = 3\n",
    "smoker = 0       # 0: non-smoker, 1: smoker\n",
    "\n",
    "# Base insurance cost calculation\n",
    "insurance_cost = 250 * age - 128 * sex + 370 * bmi + 425 * num_of_children + 24000 * smoker - 12500\n",
    "print(f\"Base estimated insurance cost: ${insurance_cost}\\n\")\n"
   ]
  },
  {
   "cell_type": "markdown",
   "id": "5c2f65d1",
   "metadata": {
    "panel-layout": {
     "height": 80.78125,
     "visible": true,
     "width": 100
    }
   },
   "source": [
    "## Age Factor\n",
    "Increase age by 4 years to see its effect on insurance cost.\n"
   ]
  },
  {
   "cell_type": "code",
   "execution_count": null,
   "id": "eb23f0c0",
   "metadata": {},
   "outputs": [],
   "source": [
    "age += 4\n",
    "new_insurance_cost = 250 * age - 128 * sex + 370 * bmi + 425 * num_of_children + 24000 * smoker - 12500\n",
    "change_in_insurance_cost = new_insurance_cost - insurance_cost\n",
    "print(f\"Change in insurance cost after increasing age by 4 years: ${change_in_insurance_cost}\")\n",
    "age = 28  # Reset age\n"
   ]
  },
  {
   "cell_type": "code",
   "execution_count": null,
   "id": "50f6a44c",
   "metadata": {},
   "outputs": [],
   "source": [
    "## BMI Factor\n",
    "Increase BMI by 3.1 to see its effect on insurance cost.\n"
   ]
  },
  {
   "cell_type": "markdown",
   "id": "d6c2393a",
   "metadata": {
    "panel-layout": {
     "height": 151.84375,
     "visible": true,
     "width": 100
    }
   },
   "source": [
    "bmi += 3.1\n",
    "new_insurance_cost = 250 * age - 128 * sex + 370 * bmi + 425 * num_of_children + 24000 * smoker - 12500\n",
    "change_in_insurance_cost = new_insurance_cost - insurance_cost\n",
    "print(f\"Change in insurance cost after increasing BMI by 3.1: ${change_in_insurance_cost}\")\n",
    "bmi = 26.2  # Reset BMI\n"
   ]
  },
  {
   "cell_type": "code",
   "execution_count": null,
   "id": "6b72279c",
   "metadata": {},
   "outputs": [],
   "source": [
    "## Sex Factor\n",
    "Compare estimated costs for male vs. female.\n"
   ]
  },
  {
   "cell_type": "markdown",
   "id": "2e6df15c",
   "metadata": {
    "panel-layout": {
     "height": 197.203125,
     "visible": true,
     "width": 100
    }
   },
   "source": [
    "sex = 1\n",
    "new_insurance_cost = 250 * age - 128 * sex + 370 * bmi + 425 * num_of_children + 24000 * smoker - 12500\n",
    "change_in_insurance_cost = new_insurance_cost - insurance_cost\n",
    "print(f\"Change in insurance cost for being male instead of female: ${change_in_insurance_cost}\")\n",
    "sex = 0  # Reset sex\n"
   ]
  },
  {
   "cell_type": "code",
   "execution_count": null,
   "id": "0a999d40",
   "metadata": {
    "panel-layout": {
     "height": 0,
     "visible": true,
     "width": 100
    }
   },
   "outputs": [],
   "source": [
    "## Smoker Factor\n",
    "Compare estimated costs for smoker vs. non-smoker.\n"
   ]
  },
  {
   "cell_type": "markdown",
   "id": "81747d10",
   "metadata": {
    "panel-layout": {
     "height": 110.921875,
     "visible": true,
     "width": 100
    }
   },
   "source": [
    "smoker = 1\n",
    "new_insurance_cost = 250 * age - 128 * sex + 370 * bmi + 425 * num_of_children + 24000 * smoker - 12500\n",
    "change_in_insurance_cost = new_insurance_cost - insurance_cost\n",
    "print(f\"Change in insurance cost for being a smoker: ${change_in_insurance_cost}\")\n",
    "smoker = 0  # Reset smoker\n"
   ]
  },
  {
   "cell_type": "code",
   "execution_count": null,
   "id": "96bc8bcb-f9d5-40ae-a31a-8dd34e0fd9c5",
   "metadata": {},
   "outputs": [],
   "source": [
    "## Number of Children Factor\n",
    "Increase number of children by 1 to see its effect on insurance cost.\n"
   ]
  },
  {
   "cell_type": "code",
   "execution_count": null,
   "id": "3f0b628c-c64f-4179-8dc0-ec20f6988b7b",
   "metadata": {},
   "outputs": [],
   "source": [
    "num_of_children += 1\n",
    "new_insurance_cost = 250 * age - 128 * sex + 370 * bmi + 425 * num_of_children + 24000 * smoker - 12500\n",
    "change_in_insurance_cost = new_insurance_cost - insurance_cost\n",
    "print(f\"Change in insurance cost for having one additional child: ${change_in_insurance_cost}\")\n",
    "num_of_children = 3  # Reset number of children\n"
   ]
  },
  {
   "cell_type": "code",
   "execution_count": 8,
   "id": "ee321873",
   "metadata": {
    "panel-layout": {
     "height": 0,
     "visible": true,
     "width": 100
    }
   },
   "outputs": [
    {
     "name": "stdout",
     "output_type": "stream",
     "text": [
      "The change in estimated insurance cost for being a smoker is 24000.0 dollars.\n",
      "The change in estimated insurance cost for having one additional child is 425.0 dollars.\n"
     ]
    }
   ],
   "source": [
    "# Original variables\n",
    "age = 28\n",
    "sex = 0\n",
    "bmi = 26.2\n",
    "num_of_children = 3\n",
    "smoker = 0\n",
    "\n",
    "# Original insurance cost\n",
    "insurance_cost = 250 * age - 128 * sex + 370 * bmi + 425 * num_of_children + 24000 * smoker - 12500\n",
    "\n",
    "# --- Smoker Factor ---\n",
    "# Change smoker to 1 (smoker)\n",
    "smoker = 1\n",
    "\n",
    "# Calculate new insurance cost\n",
    "new_insurance_cost = 250 * age - 128 * sex + 370 * bmi + 425 * num_of_children + 24000 * smoker - 12500\n",
    "\n",
    "# Calculate the difference\n",
    "change_in_insurance_cost = new_insurance_cost - insurance_cost\n",
    "\n",
    "# Display result for smoker factor\n",
    "print(\"The change in estimated insurance cost for being a smoker is \" + str(change_in_insurance_cost) + \" dollars.\")\n",
    "\n",
    "# --- Number of Children Factor ---\n",
    "# Reset smoker to original\n",
    "smoker = 0\n",
    "\n",
    "# Increase number of children by 1\n",
    "num_of_children += 1\n",
    "\n",
    "# Calculate new insurance cost\n",
    "new_insurance_cost = 250 * age - 128 * sex + 370 * bmi + 425 * num_of_children + 24000 * smoker - 12500\n",
    "\n",
    "# Calculate the difference\n",
    "change_in_insurance_cost = new_insurance_cost - insurance_cost\n",
    "\n",
    "# Display result for number of children factor\n",
    "print(\"The change in estimated insurance cost for having one additional child is \" + str(change_in_insurance_cost) + \" dollars.\")\n"
   ]
  }
 ],
 "metadata": {
  "kernelspec": {
   "display_name": "Python [conda env:base] *",
   "language": "python",
   "name": "conda-base-py"
  },
  "language_info": {
   "codemirror_mode": {
    "name": "ipython",
    "version": 3
   },
   "file_extension": ".py",
   "mimetype": "text/x-python",
   "name": "python",
   "nbconvert_exporter": "python",
   "pygments_lexer": "ipython3",
   "version": "3.12.7"
  },
  "panel-cell-order": [
   "7ac921d1",
   "84c02393",
   "05392afb",
   "e433bd9f",
   "2b7c2cbc",
   "6db974a5",
   "90e6bbe0",
   "cf6d3790",
   "203e7e61",
   "5c2f65d1",
   "a18a8926",
   "d6c2393a",
   "2e6df15c",
   "0a999d40",
   "23bc90cf",
   "81747d10",
   "febe2c07",
   "19d121c8",
   "26c3c473",
   "e0c96041",
   "da20c656",
   "ce2da0e8",
   "f652d964",
   "deae95f4",
   "2e44bb53",
   "ee321873"
  ]
 },
 "nbformat": 4,
 "nbformat_minor": 5
}
